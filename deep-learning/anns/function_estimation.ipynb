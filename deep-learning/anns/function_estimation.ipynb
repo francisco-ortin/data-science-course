{
 "cells": [
  {
   "cell_type": "markdown",
   "source": [
    "[![Open In Colab](https://colab.research.google.com/assets/colab-badge.svg)](https://colab.research.google.com/github/francisco-ortin/data-science-course/blob/main/deep-learning/anns/function_estimation.ipynb)\n",
    "[![License: CC BY-NC-SA 4.0](https://img.shields.io/badge/License-CC%20BY--NC--SA%204.0-lightgrey.svg)](https://creativecommons.org/licenses/by-nc-sa/4.0/)"
   ],
   "metadata": {
    "collapsed": false
   },
   "id": "87540b40e3958a06"
  },
  {
   "cell_type": "markdown",
   "id": "72ea15f3d70547f7",
   "metadata": {
    "collapsed": false
   },
   "source": [
    "# Function estimation with Keras/Tensorflow\n",
    "\n",
    "This notebook shows how Keras and Tensorflow can be used to estimate the parameters of a given function, learning them from data. We must define the equation of the function (i.e., the model), setting the parameters to be learned from data as Tensorflow variables. Then, an optimizer (such as Gradient Descent) is used to learn the parameters. The only requirement is that the function must be differentiable, because Tensorflow will compute the derivatives automatically in order to minimize the loss using Gradient Descent."
   ]
  },
  {
   "cell_type": "code",
   "execution_count": 68,
   "id": "5f099c66705669f8",
   "metadata": {
    "collapsed": false,
    "ExecuteTime": {
     "end_time": "2024-12-20T10:08:42.145066Z",
     "start_time": "2024-12-20T10:08:40.305273Z"
    }
   },
   "outputs": [
    {
     "name": "stdout",
     "output_type": "stream",
     "text": [
      "Note: you may need to restart the kernel to use updated packages.\n"
     ]
    }
   ],
   "source": [
    "# make sure the required packages are installed\n",
    "%pip install pandas numpy seaborn matplotlib scikit-learn keras tensorflow --quiet\n",
    "# if running in colab, install the required packages and copy the necessary files\n",
    "directory='data-science-course/deep-learning/anns'\n",
    "if get_ipython().__class__.__module__.startswith('google.colab'):\n",
    "    !git clone --depth 1 https://github.com/francisco-ortin/data-science-course.git  2>/dev/null\n",
    "    !cp --update {directory}/*.py .\n",
    "    !mkdir -p img data\n",
    "    !cp {directory}/img/* img/.\n",
    "\n",
    "import numpy as np\n",
    "import tensorflow as tf\n",
    "from random import random\n",
    "from keras.src.optimizers import SGD, Adam\n",
    "\n",
    "from utils import plot_function, plot_functions"
   ]
  },
  {
   "cell_type": "markdown",
   "id": "e7c3e8a3ff34b7dc",
   "metadata": {
    "collapsed": false
   },
   "source": [
    "## Ground truth\n",
    "\n",
    "We define the ground truth: a function that we want to learn from data. \n",
    "\n",
    "The function to be learned follows the equation: $f(x) = a x^3 + b x^2 + cx + d$, where $a$, $b$, $c$ and $d$ are the parameters to be learned from data and $x$ the only input variable.\n",
    "\n",
    "We create data for $x$ and $y$. $x$ ranges from -10 to 10 and $y$ is computed using the function above."
   ]
  },
  {
   "cell_type": "code",
   "execution_count": 69,
   "id": "33531d19a75de77f",
   "metadata": {
    "collapsed": false,
    "ExecuteTime": {
     "end_time": "2024-12-20T10:08:42.160345Z",
     "start_time": "2024-12-20T10:08:42.150906Z"
    }
   },
   "outputs": [],
   "source": [
    "x = np.arange(-2, 2.1, 0.1)\n",
    "# a, b, c, d are the parameters to be learned\n",
    "a, b, c, d = 0.1, -0.2, 0.3, -0.4\n",
    "y = a*(x**3) + b*(x**2) + c*x + d"
   ]
  },
  {
   "cell_type": "markdown",
   "id": "802ac98cb6d019ad",
   "metadata": {
    "collapsed": false
   },
   "source": [
    "We add some noise to the target variable $y$ in the dataset to make prediction more difficult."
   ]
  },
  {
   "cell_type": "code",
   "execution_count": 70,
   "id": "ba1108741a17ef06",
   "metadata": {
    "collapsed": false,
    "ExecuteTime": {
     "end_time": "2024-12-20T10:08:42.182819Z",
     "start_time": "2024-12-20T10:08:42.165116Z"
    }
   },
   "outputs": [],
   "source": [
    "noise = np.random.normal(0,0.01, len(x))\n",
    "y = y + noise"
   ]
  },
  {
   "cell_type": "markdown",
   "id": "52235b5e38e3ccf",
   "metadata": {
    "collapsed": false
   },
   "source": [
    "## Visualization\n",
    "Let's plot the y function:"
   ]
  },
  {
   "cell_type": "code",
   "execution_count": 71,
   "id": "e0e285a33f74265b",
   "metadata": {
    "collapsed": false,
    "ExecuteTime": {
     "end_time": "2024-12-20T10:08:42.346039Z",
     "start_time": "2024-12-20T10:08:42.188035Z"
    }
   },
   "outputs": [
    {
     "data": {
      "text/plain": "<Figure size 500x500 with 1 Axes>",
      "image/png": "[encoded data removed]"
     },
     "metadata": {},
     "output_type": "display_data"
    }
   ],
   "source": [
    "plot_function(x, y, f\"Function y = {a}*(x**3) + {b}*(x**2) + {c}*x + {d}\")"
   ]
  },
  {
   "cell_type": "markdown",
   "id": "edfd1a4a83763498",
   "metadata": {
    "collapsed": false
   },
   "source": [
    "## Tensorflow Variables\n",
    "\n",
    "We now create the four variables to be learned as Tensorflow variables. This is a pretty low level usage of Tensorflow, but it is useful to understand how it works."
   ]
  },
  {
   "cell_type": "code",
   "execution_count": 72,
   "id": "e59cf1f79ad18fa0",
   "metadata": {
    "collapsed": false,
    "ExecuteTime": {
     "end_time": "2024-12-20T10:08:42.362397Z",
     "start_time": "2024-12-20T10:08:42.349711Z"
    }
   },
   "outputs": [],
   "source": [
    "A, B, C, D = tf.Variable(random()), tf.Variable(random()), tf.Variable(random()), tf.Variable(random())"
   ]
  },
  {
   "cell_type": "markdown",
   "id": "a35cb0e63baa551a",
   "metadata": {
    "collapsed": false
   },
   "source": [
    "## Loss function\n",
    "We use MSE to compute the loss function (it is regression problem)."
   ]
  },
  {
   "cell_type": "code",
   "execution_count": 73,
   "id": "12d7b20ccb899e96",
   "metadata": {
    "collapsed": false,
    "ExecuteTime": {
     "end_time": "2024-12-20T10:08:42.374639Z",
     "start_time": "2024-12-20T10:08:42.366503Z"
    }
   },
   "outputs": [],
   "source": [
    "loss_mse = lambda: sum((y - (A * (x ** 3) + B * (x ** 2) + C * x + D)) ** 2) / (2*len(x))"
   ]
  },
  {
   "cell_type": "markdown",
   "id": "9d71c4195679301f",
   "metadata": {
    "collapsed": false
   },
   "source": [
    "## Optimizer\n",
    "\n",
    "We use the [Adam optimizer](https://optimization.cbe.cornell.edu/index.php?title=Adam), which is much faster than SGD. Adam (Adaptive Moment Estimation) is a stochastic gradient descent method that is based on adaptive momentum. It is widely used in training deep neural networks. "
   ]
  },
  {
   "cell_type": "code",
   "execution_count": 74,
   "id": "902bdc98bcffd2a",
   "metadata": {
    "collapsed": false,
    "ExecuteTime": {
     "end_time": "2024-12-20T10:08:42.388490Z",
     "start_time": "2024-12-20T10:08:42.378653Z"
    }
   },
   "outputs": [],
   "source": [
    "optimizer = Adam(learning_rate=0.1)"
   ]
  },
  {
   "cell_type": "markdown",
   "id": "9a8a06a43d16c584",
   "metadata": {
    "collapsed": false
   },
   "source": [
    "## Training\n",
    "\n",
    "We now ask the optimizer to minimize the loss by applying the optimization algorith to the variables, learning their values from data. "
   ]
  },
  {
   "cell_type": "code",
   "execution_count": 75,
   "id": "10d584c42bb9c1e3",
   "metadata": {
    "collapsed": false,
    "ExecuteTime": {
     "end_time": "2024-12-20T10:08:49.207661Z",
     "start_time": "2024-12-20T10:08:42.393256Z"
    }
   },
   "outputs": [
    {
     "name": "stdout",
     "output_type": "stream",
     "text": [
      "Epoch:   0, loss: 6.6034030914, A:0.7772, B: 0.6515, C:-0.0736, D:0.7756.\n",
      "Epoch:   1, loss: 4.9997224808, A:0.6784, B: 0.5519, C:-0.1724, D:0.6759.\n",
      "Epoch:   2, loss: 3.6685667038, A:0.5819, B: 0.4530, C:-0.2684, D:0.5770.\n",
      "Epoch:   3, loss: 2.6093575954, A:0.4895, B: 0.3552, C:-0.3596, D:0.4790.\n",
      "Epoch:   4, loss: 1.8129371405, A:0.4034, B: 0.2590, C:-0.4431, D:0.3826.\n",
      "Epoch:   5, loss: 1.2577207088, A:0.3266, B: 0.1648, C:-0.5156, D:0.2880.\n",
      "Epoch:   6, loss: 0.9069613814, A:0.2618, B: 0.0733, C:-0.5736, D:0.1959.\n",
      "Epoch:   7, loss: 0.7101752758, A:0.2112, B: -0.0148, C:-0.6147, D:0.1069.\n",
      "Epoch:   8, loss: 0.6111516953, A:0.1760, B: -0.0988, C:-0.6382, D:0.0217.\n",
      "Epoch:   9, loss: 0.5600755215, A:0.1560, B: -0.1779, C:-0.6450, D:-0.0590.\n",
      "Epoch:  10, loss: 0.5227476954, A:0.1497, B: -0.2513, C:-0.6371, D:-0.1346.\n",
      "Epoch:  11, loss: 0.4823773503, A:0.1553, B: -0.3182, C:-0.6169, D:-0.2042.\n",
      "Epoch:  12, loss: 0.4355320930, A:0.1705, B: -0.3778, C:-0.5870, D:-0.2673.\n",
      "Epoch:  13, loss: 0.3863780200, A:0.1931, B: -0.4295, C:-0.5497, D:-0.3231.\n",
      "Epoch:  14, loss: 0.3418764472, A:0.2210, B: -0.4730, C:-0.5071, D:-0.3714.\n",
      "Epoch:  15, loss: 0.3086137772, A:0.2521, B: -0.5078, C:-0.4613, D:-0.4118.\n",
      "Epoch:  16, loss: 0.2909746468, A:0.2842, B: -0.5341, C:-0.4144, D:-0.4443.\n",
      "Epoch:  17, loss: 0.2902240455, A:0.3156, B: -0.5519, C:-0.3680, D:-0.4689.\n",
      "Epoch:  18, loss: 0.3042421937, A:0.3444, B: -0.5616, C:-0.3240, D:-0.4859.\n",
      "Epoch:  19, loss: 0.3278531730, A:0.3691, B: -0.5638, C:-0.2838, D:-0.4958.\n",
      "Epoch:  20, loss: 0.3537636697, A:0.3884, B: -0.5590, C:-0.2488, D:-0.4991.\n",
      "Epoch:  21, loss: 0.3740254045, A:0.4014, B: -0.5479, C:-0.2199, D:-0.4964.\n",
      "Epoch:  22, loss: 0.3817309737, A:0.4077, B: -0.5315, C:-0.1975, D:-0.4884.\n",
      "Epoch:  23, loss: 0.3724960983, A:0.4073, B: -0.5103, C:-0.1817, D:-0.4759.\n",
      "Epoch:  24, loss: 0.3453069925, A:0.4007, B: -0.4854, C:-0.1722, D:-0.4596.\n",
      "Epoch:  25, loss: 0.3025473058, A:0.3885, B: -0.4575, C:-0.1683, D:-0.4404.\n",
      "Epoch:  26, loss: 0.2492866963, A:0.3716, B: -0.4274, C:-0.1691, D:-0.4190.\n",
      "Epoch:  27, loss: 0.1921009272, A:0.3513, B: -0.3960, C:-0.1734, D:-0.3962.\n",
      "Epoch:  28, loss: 0.1377416998, A:0.3286, B: -0.3639, C:-0.1801, D:-0.3728.\n",
      "Epoch:  29, loss: 0.0919333324, A:0.3050, B: -0.3320, C:-0.1879, D:-0.3494.\n",
      "Epoch:  30, loss: 0.0584864505, A:0.2815, B: -0.3010, C:-0.1956, D:-0.3267.\n",
      "Epoch:  31, loss: 0.0388488993, A:0.2593, B: -0.2714, C:-0.2018, D:-0.3053.\n",
      "Epoch:  32, loss: 0.0321308076, A:0.2395, B: -0.2438, C:-0.2058, D:-0.2857.\n",
      "Epoch:  33, loss: 0.0355639271, A:0.2228, B: -0.2187, C:-0.2066, D:-0.2685.\n",
      "Epoch:  34, loss: 0.0452715904, A:0.2098, B: -0.1965, C:-0.2038, D:-0.2539.\n",
      "Epoch:  35, loss: 0.0571614839, A:0.2007, B: -0.1774, C:-0.1971, D:-0.2422.\n",
      "Epoch:  36, loss: 0.0677331015, A:0.1957, B: -0.1617, C:-0.1865, D:-0.2337.\n",
      "Epoch:  37, loss: 0.0746308565, A:0.1943, B: -0.1495, C:-0.1723, D:-0.2284.\n",
      "Epoch:  38, loss: 0.0768556818, A:0.1961, B: -0.1408, C:-0.1549, D:-0.2263.\n",
      "Epoch:  39, loss: 0.0746465698, A:0.2006, B: -0.1354, C:-0.1352, D:-0.2272.\n",
      "Epoch:  40, loss: 0.0691192523, A:0.2069, B: -0.1332, C:-0.1137, D:-0.2311.\n",
      "Epoch:  41, loss: 0.0617903098, A:0.2141, B: -0.1339, C:-0.0914, D:-0.2377.\n",
      "Epoch:  42, loss: 0.0541179404, A:0.2216, B: -0.1373, C:-0.0691, D:-0.2466.\n",
      "Epoch:  43, loss: 0.0471625030, A:0.2285, B: -0.1430, C:-0.0476, D:-0.2575.\n",
      "Epoch:  44, loss: 0.0414266586, A:0.2340, B: -0.1505, C:-0.0276, D:-0.2701.\n",
      "Epoch:  45, loss: 0.0368816666, A:0.2377, B: -0.1595, C:-0.0097, D:-0.2839.\n",
      "Epoch:  46, loss: 0.0331389792, A:0.2392, B: -0.1695, C:0.0059, D:-0.2986.\n",
      "Epoch:  47, loss: 0.0296919923, A:0.2383, B: -0.1802, C:0.0188, D:-0.3136.\n",
      "Epoch:  48, loss: 0.0261445343, A:0.2351, B: -0.1911, C:0.0291, D:-0.3287.\n",
      "Epoch:  49, loss: 0.0223580226, A:0.2296, B: -0.2018, C:0.0370, D:-0.3435.\n",
      "Epoch:  50, loss: 0.0184839442, A:0.2223, B: -0.2120, C:0.0427, D:-0.3576.\n",
      "Epoch:  51, loss: 0.0148881283, A:0.2135, B: -0.2214, C:0.0468, D:-0.3707.\n",
      "Epoch:  52, loss: 0.0120055452, A:0.2039, B: -0.2297, C:0.0498, D:-0.3826.\n",
      "Epoch:  53, loss: 0.0101799704, A:0.1940, B: -0.2367, C:0.0523, D:-0.3931.\n",
      "Epoch:  54, loss: 0.0095411958, A:0.1843, B: -0.2423, C:0.0547, D:-0.4020.\n",
      "Epoch:  55, loss: 0.0099549945, A:0.1754, B: -0.2464, C:0.0576, D:-0.4093.\n",
      "Epoch:  56, loss: 0.0110559398, A:0.1675, B: -0.2489, C:0.0614, D:-0.4149.\n",
      "Epoch:  57, loss: 0.0123474319, A:0.1611, B: -0.2499, C:0.0663, D:-0.4189.\n",
      "Epoch:  58, loss: 0.0133345211, A:0.1563, B: -0.2494, C:0.0726, D:-0.4212.\n",
      "Epoch:  59, loss: 0.0136480909, A:0.1530, B: -0.2476, C:0.0803, D:-0.4222.\n",
      "Epoch:  60, loss: 0.0131252771, A:0.1513, B: -0.2445, C:0.0892, D:-0.4218.\n",
      "Epoch:  61, loss: 0.0118272817, A:0.1509, B: -0.2405, C:0.0992, D:-0.4202.\n",
      "Epoch:  62, loss: 0.0099960295, A:0.1514, B: -0.2356, C:0.1099, D:-0.4178.\n",
      "Epoch:  63, loss: 0.0079687387, A:0.1527, B: -0.2301, C:0.1211, D:-0.4146.\n",
      "Epoch:  64, loss: 0.0060793729, A:0.1543, B: -0.2242, C:0.1322, D:-0.4108.\n",
      "Epoch:  65, loss: 0.0045759198, A:0.1557, B: -0.2181, C:0.1431, D:-0.4068.\n",
      "Epoch:  66, loss: 0.0035741143, A:0.1568, B: -0.2121, C:0.1533, D:-0.4027.\n",
      "Epoch:  67, loss: 0.0030547392, A:0.1573, B: -0.2063, C:0.1626, D:-0.3986.\n",
      "Epoch:  68, loss: 0.0028980013, A:0.1570, B: -0.2009, C:0.1709, D:-0.3948.\n",
      "Epoch:  69, loss: 0.0029385227, A:0.1557, B: -0.1960, C:0.1779, D:-0.3914.\n",
      "Epoch:  70, loss: 0.0030210810, A:0.1536, B: -0.1918, C:0.1838, D:-0.3886.\n",
      "Epoch:  71, loss: 0.0030403945, A:0.1506, B: -0.1883, C:0.1887, D:-0.3863.\n",
      "Epoch:  72, loss: 0.0029561340, A:0.1470, B: -0.1856, C:0.1926, D:-0.3847.\n",
      "Epoch:  73, loss: 0.0027837823, A:0.1429, B: -0.1837, C:0.1959, D:-0.3838.\n",
      "Epoch:  74, loss: 0.0025696617, A:0.1387, B: -0.1826, C:0.1987, D:-0.3835.\n",
      "Epoch:  75, loss: 0.0023619749, A:0.1345, B: -0.1823, C:0.2013, D:-0.3839.\n",
      "Epoch:  76, loss: 0.0021888884, A:0.1305, B: -0.1827, C:0.2039, D:-0.3849.\n",
      "Epoch:  77, loss: 0.0020500654, A:0.1270, B: -0.1836, C:0.2068, D:-0.3863.\n",
      "Epoch:  78, loss: 0.0019222096, A:0.1241, B: -0.1851, C:0.2100, D:-0.3883.\n",
      "Epoch:  79, loss: 0.0017738626, A:0.1218, B: -0.1870, C:0.2137, D:-0.3905.\n",
      "Epoch:  80, loss: 0.0015820912, A:0.1202, B: -0.1892, C:0.2178, D:-0.3929.\n",
      "Epoch:  81, loss: 0.0013440461, A:0.1192, B: -0.1916, C:0.2223, D:-0.3955.\n",
      "Epoch:  82, loss: 0.0010792917, A:0.1188, B: -0.1941, C:0.2272, D:-0.3981.\n",
      "Epoch:  83, loss: 0.0008228616, A:0.1188, B: -0.1965, C:0.2323, D:-0.4006.\n",
      "Epoch:  84, loss: 0.0006125165, A:0.1190, B: -0.1988, C:0.2374, D:-0.4029.\n",
      "Epoch:  85, loss: 0.0004754864, A:0.1193, B: -0.2008, C:0.2424, D:-0.4049.\n",
      "Epoch:  86, loss: 0.0004196453, A:0.1195, B: -0.2026, C:0.2471, D:-0.4067.\n",
      "Epoch:  87, loss: 0.0004319090, A:0.1196, B: -0.2041, C:0.2514, D:-0.4081.\n",
      "Epoch:  88, loss: 0.0004837554, A:0.1193, B: -0.2052, C:0.2553, D:-0.4091.\n",
      "Epoch:  89, loss: 0.0005412406, A:0.1187, B: -0.2060, C:0.2587, D:-0.4097.\n",
      "Epoch:  90, loss: 0.0005756044, A:0.1178, B: -0.2064, C:0.2615, D:-0.4100.\n",
      "Epoch:  91, loss: 0.0005708173, A:0.1166, B: -0.2064, C:0.2638, D:-0.4099.\n",
      "Epoch:  92, loss: 0.0005259902, A:0.1150, B: -0.2062, C:0.2657, D:-0.4095.\n",
      "Epoch:  93, loss: 0.0004526103, A:0.1134, B: -0.2056, C:0.2673, D:-0.4088.\n",
      "Epoch:  94, loss: 0.0003683848, A:0.1116, B: -0.2049, C:0.2686, D:-0.4078.\n",
      "Epoch:  95, loss: 0.0002903417, A:0.1099, B: -0.2039, C:0.2699, D:-0.4067.\n",
      "Epoch:  96, loss: 0.0002296643, A:0.1084, B: -0.2029, C:0.2711, D:-0.4055.\n",
      "Epoch:  97, loss: 0.0001896751, A:0.1070, B: -0.2018, C:0.2724, D:-0.4042.\n",
      "Epoch:  98, loss: 0.0001669945, A:0.1059, B: -0.2007, C:0.2738, D:-0.4029.\n",
      "Epoch:  99, loss: 0.0001547612, A:0.1051, B: -0.1996, C:0.2754, D:-0.4016.\n",
      "Epoch: 100, loss: 0.0001462478, A:0.1046, B: -0.1987, C:0.2771, D:-0.4004.\n",
      "Epoch: 101, loss: 0.0001374054, A:0.1044, B: -0.1978, C:0.2790, D:-0.3994.\n",
      "Epoch: 102, loss: 0.0001275900, A:0.1043, B: -0.1972, C:0.2810, D:-0.3985.\n",
      "Epoch: 103, loss: 0.0001185852, A:0.1044, B: -0.1967, C:0.2829, D:-0.3978.\n",
      "Epoch: 104, loss: 0.0001127352, A:0.1045, B: -0.1964, C:0.2849, D:-0.3972.\n",
      "Epoch: 105, loss: 0.0001111845, A:0.1046, B: -0.1963, C:0.2867, D:-0.3969.\n",
      "Epoch: 106, loss: 0.0001130313, A:0.1047, B: -0.1963, C:0.2883, D:-0.3967.\n",
      "Epoch: 107, loss: 0.0001156356, A:0.1046, B: -0.1965, C:0.2898, D:-0.3967.\n",
      "Epoch: 108, loss: 0.0001158069, A:0.1045, B: -0.1969, C:0.2910, D:-0.3968.\n",
      "Epoch: 109, loss: 0.0001112227, A:0.1041, B: -0.1974, C:0.2919, D:-0.3970.\n",
      "Epoch: 110, loss: 0.0001014213, A:0.1037, B: -0.1979, C:0.2927, D:-0.3973.\n",
      "Epoch: 111, loss: 0.0000879645, A:0.1031, B: -0.1986, C:0.2933, D:-0.3977.\n",
      "Epoch: 112, loss: 0.0000737685, A:0.1025, B: -0.1992, C:0.2937, D:-0.3981.\n",
      "Epoch: 113, loss: 0.0000619503, A:0.1019, B: -0.1998, C:0.2940, D:-0.3986.\n",
      "Epoch: 114, loss: 0.0000546987, A:0.1013, B: -0.2004, C:0.2943, D:-0.3990.\n",
      "Epoch: 115, loss: 0.0000526108, A:0.1008, B: -0.2010, C:0.2946, D:-0.3993.\n",
      "Epoch: 116, loss: 0.0000546941, A:0.1003, B: -0.2014, C:0.2950, D:-0.3996.\n",
      "Epoch: 117, loss: 0.0000589418, A:0.1000, B: -0.2018, C:0.2953, D:-0.3998.\n",
      "Epoch: 118, loss: 0.0000631808, A:0.0998, B: -0.2021, C:0.2958, D:-0.4000.\n",
      "Epoch: 119, loss: 0.0000658235, A:0.0997, B: -0.2023, C:0.2963, D:-0.4000.\n",
      "Epoch: 120, loss: 0.0000662606, A:0.0998, B: -0.2024, C:0.2969, D:-0.4000.\n",
      "Epoch: 121, loss: 0.0000648126, A:0.0998, B: -0.2024, C:0.2974, D:-0.3999.\n",
      "Epoch: 122, loss: 0.0000623521, A:0.1000, B: -0.2024, C:0.2980, D:-0.3997.\n",
      "Epoch: 123, loss: 0.0000598124, A:0.1001, B: -0.2022, C:0.2985, D:-0.3995.\n",
      "Epoch: 124, loss: 0.0000578092, A:0.1002, B: -0.2020, C:0.2990, D:-0.3992.\n",
      "Epoch: 125, loss: 0.0000564980, A:0.1003, B: -0.2018, C:0.2994, D:-0.3989.\n",
      "Epoch: 126, loss: 0.0000556743, A:0.1003, B: -0.2015, C:0.2997, D:-0.3986.\n",
      "Epoch: 127, loss: 0.0000550082, A:0.1003, B: -0.2013, C:0.2999, D:-0.3983.\n",
      "Epoch: 128, loss: 0.0000542768, A:0.1001, B: -0.2010, C:0.3000, D:-0.3980.\n",
      "Epoch: 129, loss: 0.0000534788, A:0.1000, B: -0.2008, C:0.3000, D:-0.3977.\n",
      "Epoch: 130, loss: 0.0000528008, A:0.0998, B: -0.2006, C:0.3000, D:-0.3975.\n",
      "Epoch: 131, loss: 0.0000524799, A:0.0996, B: -0.2004, C:0.3000, D:-0.3973.\n",
      "Epoch: 132, loss: 0.0000526474, A:0.0995, B: -0.2003, C:0.2999, D:-0.3971.\n",
      "Epoch: 133, loss: 0.0000532387, A:0.0993, B: -0.2002, C:0.2998, D:-0.3970.\n",
      "Epoch: 134, loss: 0.0000540092, A:0.0992, B: -0.2002, C:0.2998, D:-0.3970.\n",
      "Epoch: 135, loss: 0.0000546393, A:0.0991, B: -0.2002, C:0.2998, D:-0.3970.\n",
      "Epoch: 136, loss: 0.0000548698, A:0.0991, B: -0.2003, C:0.2998, D:-0.3970.\n",
      "Epoch: 137, loss: 0.0000546046, A:0.0992, B: -0.2004, C:0.2998, D:-0.3971.\n",
      "Epoch: 138, loss: 0.0000539356, A:0.0992, B: -0.2005, C:0.2999, D:-0.3972.\n",
      "Epoch: 139, loss: 0.0000530868, A:0.0993, B: -0.2006, C:0.3000, D:-0.3973.\n",
      "Epoch: 140, loss: 0.0000523131, A:0.0994, B: -0.2008, C:0.3001, D:-0.3975.\n",
      "Epoch: 141, loss: 0.0000517996, A:0.0995, B: -0.2009, C:0.3002, D:-0.3976.\n",
      "Epoch: 142, loss: 0.0000516065, A:0.0996, B: -0.2010, C:0.3002, D:-0.3978.\n",
      "Epoch: 143, loss: 0.0000516728, A:0.0997, B: -0.2011, C:0.3002, D:-0.3979.\n",
      "Epoch: 144, loss: 0.0000518669, A:0.0997, B: -0.2012, C:0.3002, D:-0.3980.\n",
      "Epoch: 145, loss: 0.0000520550, A:0.0997, B: -0.2013, C:0.3001, D:-0.3981.\n",
      "Epoch: 146, loss: 0.0000521516, A:0.0997, B: -0.2014, C:0.3000, D:-0.3982.\n",
      "Epoch: 147, loss: 0.0000521398, A:0.0997, B: -0.2014, C:0.2999, D:-0.3982.\n",
      "Epoch: 148, loss: 0.0000520537, A:0.0996, B: -0.2014, C:0.2998, D:-0.3982.\n",
      "Epoch: 149, loss: 0.0000519443, A:0.0996, B: -0.2014, C:0.2997, D:-0.3982.\n",
      "Epoch: 150, loss: 0.0000518483, A:0.0996, B: -0.2013, C:0.2996, D:-0.3982.\n",
      "Epoch: 151, loss: 0.0000517727, A:0.0995, B: -0.2013, C:0.2995, D:-0.3982.\n",
      "Epoch: 152, loss: 0.0000517012, A:0.0995, B: -0.2012, C:0.2994, D:-0.3981.\n",
      "Epoch: 153, loss: 0.0000516111, A:0.0996, B: -0.2011, C:0.2993, D:-0.3981.\n",
      "Epoch: 154, loss: 0.0000514943, A:0.0996, B: -0.2011, C:0.2992, D:-0.3980.\n",
      "Epoch: 155, loss: 0.0000513626, A:0.0997, B: -0.2010, C:0.2992, D:-0.3980.\n",
      "Epoch: 156, loss: 0.0000512438, A:0.0997, B: -0.2009, C:0.2992, D:-0.3979.\n",
      "Epoch: 157, loss: 0.0000511659, A:0.0998, B: -0.2008, C:0.2991, D:-0.3979.\n",
      "Epoch: 158, loss: 0.0000511432, A:0.0998, B: -0.2008, C:0.2991, D:-0.3978.\n",
      "Epoch: 159, loss: 0.0000511687, A:0.0999, B: -0.2007, C:0.2991, D:-0.3978.\n",
      "Epoch: 160, loss: 0.0000512170, A:0.0999, B: -0.2007, C:0.2990, D:-0.3978.\n",
      "Epoch: 161, loss: 0.0000512582, A:0.1000, B: -0.2007, C:0.2990, D:-0.3978.\n",
      "Epoch: 162, loss: 0.0000512689, A:0.1000, B: -0.2007, C:0.2989, D:-0.3978.\n",
      "Epoch: 163, loss: 0.0000512418, A:0.1000, B: -0.2007, C:0.2988, D:-0.3979.\n",
      "Epoch: 164, loss: 0.0000511855, A:0.1000, B: -0.2007, C:0.2988, D:-0.3979.\n",
      "Epoch: 165, loss: 0.0000511188, A:0.1000, B: -0.2008, C:0.2987, D:-0.3979.\n",
      "Epoch: 166, loss: 0.0000510603, A:0.1000, B: -0.2008, C:0.2986, D:-0.3980.\n",
      "Epoch: 167, loss: 0.0000510213, A:0.1000, B: -0.2008, C:0.2985, D:-0.3980.\n",
      "Epoch: 168, loss: 0.0000510028, A:0.1000, B: -0.2009, C:0.2985, D:-0.3981.\n",
      "Epoch: 169, loss: 0.0000509985, A:0.1000, B: -0.2009, C:0.2984, D:-0.3981.\n",
      "Epoch: 170, loss: 0.0000509994, A:0.1000, B: -0.2009, C:0.2984, D:-0.3981.\n",
      "Epoch: 171, loss: 0.0000509989, A:0.1000, B: -0.2009, C:0.2983, D:-0.3982.\n",
      "Epoch: 172, loss: 0.0000509951, A:0.1001, B: -0.2010, C:0.2983, D:-0.3982.\n",
      "Epoch: 173, loss: 0.0000509896, A:0.1001, B: -0.2010, C:0.2983, D:-0.3982.\n",
      "Epoch: 174, loss: 0.0000509854, A:0.1001, B: -0.2010, C:0.2983, D:-0.3982.\n",
      "Epoch: 175, loss: 0.0000509834, A:0.1001, B: -0.2010, C:0.2982, D:-0.3982.\n",
      "Epoch: 176, loss: 0.0000509828, A:0.1002, B: -0.2010, C:0.2982, D:-0.3982.\n",
      "Epoch: 177, loss: 0.0000509813, A:0.1002, B: -0.2009, C:0.2982, D:-0.3982.\n",
      "Epoch: 178, loss: 0.0000509757, A:0.1002, B: -0.2009, C:0.2982, D:-0.3982.\n",
      "Epoch: 179, loss: 0.0000509660, A:0.1002, B: -0.2009, C:0.2981, D:-0.3982.\n",
      "Epoch: 180, loss: 0.0000509537, A:0.1002, B: -0.2009, C:0.2981, D:-0.3981.\n",
      "Epoch: 181, loss: 0.0000509427, A:0.1002, B: -0.2009, C:0.2980, D:-0.3981.\n",
      "Epoch: 182, loss: 0.0000509355, A:0.1002, B: -0.2008, C:0.2980, D:-0.3981.\n",
      "Epoch: 183, loss: 0.0000509340, A:0.1002, B: -0.2008, C:0.2980, D:-0.3981.\n",
      "Epoch: 184, loss: 0.0000509367, A:0.1002, B: -0.2008, C:0.2980, D:-0.3981.\n",
      "Epoch: 185, loss: 0.0000509418, A:0.1002, B: -0.2008, C:0.2979, D:-0.3981.\n",
      "Epoch: 186, loss: 0.0000509459, A:0.1002, B: -0.2008, C:0.2979, D:-0.3981.\n",
      "Epoch: 187, loss: 0.0000509479, A:0.1002, B: -0.2008, C:0.2979, D:-0.3981.\n",
      "Epoch: 188, loss: 0.0000509468, A:0.1002, B: -0.2008, C:0.2979, D:-0.3981.\n",
      "Epoch: 189, loss: 0.0000509438, A:0.1002, B: -0.2008, C:0.2979, D:-0.3981.\n",
      "Epoch: 190, loss: 0.0000509405, A:0.1002, B: -0.2008, C:0.2979, D:-0.3981.\n",
      "Epoch: 191, loss: 0.0000509376, A:0.1002, B: -0.2008, C:0.2979, D:-0.3981.\n",
      "Epoch: 192, loss: 0.0000509361, A:0.1003, B: -0.2008, C:0.2979, D:-0.3981.\n",
      "Epoch: 193, loss: 0.0000509353, A:0.1003, B: -0.2008, C:0.2979, D:-0.3981.\n",
      "Epoch: 194, loss: 0.0000509352, A:0.1003, B: -0.2009, C:0.2979, D:-0.3981.\n",
      "Epoch: 195, loss: 0.0000509349, A:0.1003, B: -0.2009, C:0.2979, D:-0.3981.\n",
      "Epoch: 196, loss: 0.0000509345, A:0.1003, B: -0.2009, C:0.2979, D:-0.3981.\n",
      "Epoch: 197, loss: 0.0000509343, A:0.1003, B: -0.2009, C:0.2978, D:-0.3981.\n",
      "Epoch: 198, loss: 0.0000509343, A:0.1003, B: -0.2009, C:0.2978, D:-0.3981.\n",
      "Epoch: 199, loss: 0.0000509348, A:0.1003, B: -0.2009, C:0.2978, D:-0.3981.\n"
     ]
    }
   ],
   "source": [
    "for epoch in range(200):\n",
    "    with tf.GradientTape() as tape:\n",
    "        # Compute the loss from the data (loss_mse computes the loss for x and y data, given the A, B, C, D parameters (initially random))\n",
    "        loss = loss_mse()  \n",
    "    # Compute gradients for the A, B, C, D parameters \n",
    "    gradients = tape.gradient(loss, [A, B, C, D])\n",
    "    # Apply the gradients to the variables (to be explained later on)\n",
    "    optimizer.apply_gradients(zip(gradients, [A, B, C, D]))\n",
    "    # Print epoch results\n",
    "    print(\"Epoch: {:3d}, loss: {:.10f}, A:{:.4f}, B: {:.4f}, C:{:.4f}, D:{:.4f}.\".format(\n",
    "        epoch, loss.numpy(), A.numpy(), B.numpy(), C.numpy(), D.numpy()))"
   ]
  },
  {
   "cell_type": "markdown",
   "id": "f0aabbbebc43ea38",
   "metadata": {
    "collapsed": false
   },
   "source": [
    "## Evaluation\n",
    "Let's see how far the parameters are from the actual function:"
   ]
  },
  {
   "cell_type": "code",
   "execution_count": 76,
   "id": "17975ed805d47757",
   "metadata": {
    "collapsed": false,
    "ExecuteTime": {
     "end_time": "2024-12-20T10:08:49.223328Z",
     "start_time": "2024-12-20T10:08:49.211124Z"
    }
   },
   "outputs": [
    {
     "name": "stdout",
     "output_type": "stream",
     "text": [
      "Original function: y = 0.1*(x**3) + -0.2*(x**2) + 0.3*x + -0.4.\n",
      "Function learned: y = 0.1003*(x**3) + -0.2009*(x**2) + 0.2978*x + -0.3981.\n"
     ]
    }
   ],
   "source": [
    "print(f\"Original function: y = {a}*(x**3) + {b}*(x**2) + {c}*x + {d}.\")\n",
    "print(\"Function learned: y = {:.4f}*(x**3) + {:.4f}*(x**2) + {:.4f}*x + {:.4f}.\".format(\n",
    "    A.numpy(), B.numpy(), C.numpy(), D.numpy()))"
   ]
  },
  {
   "cell_type": "markdown",
   "id": "d76c895e1d0b0dbd",
   "metadata": {
    "collapsed": false
   },
   "source": [
    "Not bad!\n",
    "\n",
    "Let's visualize both functions to see whether there are important differences."
   ]
  },
  {
   "cell_type": "code",
   "execution_count": 77,
   "id": "98b4aa88e78d2c35",
   "metadata": {
    "collapsed": false,
    "ExecuteTime": {
     "end_time": "2024-12-20T10:08:49.366829Z",
     "start_time": "2024-12-20T10:08:49.229616Z"
    }
   },
   "outputs": [
    {
     "data": {
      "text/plain": "<Figure size 500x500 with 1 Axes>",
      "image/png": "[encoded data removed]"
     },
     "metadata": {},
     "output_type": "display_data"
    }
   ],
   "source": [
    "y_predicted = A.numpy()*(x**3) + B.numpy()*(x**2) + C.numpy()*x + D.numpy()\n",
    "plot_functions(x, y, y_predicted, \"Original and predicted functions\")"
   ]
  },
  {
   "cell_type": "markdown",
   "id": "c614769f311b3b31",
   "metadata": {
    "collapsed": false
   },
   "source": [
    "## ✨ Questions ✨ \n",
    "\n",
    "1. What happens if you train the model for more epochs? Why? Try it out.\n",
    "2. What happens if you do not add noise to y? Why? Try it out.\n",
    "3. What happens if you add more noise (e.g., noise = np.random.normal(0, 1, len(x))). Why? Try it out."
   ]
  },
  {
   "cell_type": "markdown",
   "id": "d6440c3da7d486fa",
   "metadata": {
    "collapsed": false
   },
   "source": [
    "### Answers\n",
    "\n",
    "*Write your answers here.*\n",
    "\n"
   ]
  },
  {
   "cell_type": "markdown",
   "source": [
    "## Lesson learned\n",
    "\n",
    "We have seen how Tensorflow can be used to estimate the parameters of any differentiable function from data. We have to define the model (the \"shape\" of the function) and Tensorflow will learn the parameters. The same as we did with linear regression (both use Gradient Descent or any other optimizer to minimize the loss function and hence learn the parameters). The power of deep learning is that it can learn complex functions from data and we do not need to specify the function \"shape\" in advance."
   ],
   "metadata": {
    "collapsed": false
   },
   "id": "679071ca1094a904"
  }
 ],
 "metadata": {
  "kernelspec": {
   "display_name": "Python 3 (ipykernel)",
   "language": "python",
   "name": "python3"
  },
  "language_info": {
   "codemirror_mode": {
    "name": "ipython",
    "version": 3
   },
   "file_extension": ".py",
   "mimetype": "text/x-python",
   "name": "python",
   "nbconvert_exporter": "python",
   "pygments_lexer": "ipython3",
   "version": "3.11.4"
  }
 },
 "nbformat": 4,
 "nbformat_minor": 5
}
