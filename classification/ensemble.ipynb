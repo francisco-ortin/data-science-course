{
 "cells": [
  {
   "cell_type": "markdown",
   "source": [
    "[![Open In Colab](https://colab.research.google.com/assets/colab-badge.svg)](https://colab.research.google.com/github/francisco-ortin/data-science-course/blob/main/classification/ensemble.ipynb)\n",
    "[![License: CC BY-NC-SA 4.0](https://img.shields.io/badge/License-CC%20BY--NC--SA%204.0-lightgrey.svg)](https://creativecommons.org/licenses/by-nc-sa/4.0/)"
   ],
   "metadata": {
    "collapsed": false
   },
   "id": "77f76148d5f67905"
  },
  {
   "cell_type": "markdown",
   "source": [
    "# Ensemble methods\n",
    "\n",
    "This notebook tackles two important things: ensemble methods and how to compare the performance of different models. Ensemble methods are a type of machine learning technique that combines several models to improve the performance of the model. To compare the performance of different models, we have to used statistical tests, since the models are trained with stochastic procedures.\n",
    "\n",
    "We use the [Titanic Disaster dataset](https://www.kaggle.com/c/titanic/data?select=test.csv) stored in `data/titanic.csv`. The dataset has de following features:\n",
    "- PassengerId: unique identifier for each passenger.\n",
    "- Survived: target variable (0 = No, 1 = Yes).\n",
    "- Pclass: ticket class (1 = 1st, 2 = 2nd, 3 = 3rd).\n",
    "- Name: name of the passenger.\n",
    "- Sex: \"male\" or \"female\".\n",
    "- Age: age in years.\n",
    "- SibSp: number of siblings/spouses aboard.\n",
    "- Parch: number of parents/children aboard.\n",
    "- Ticket: ticket number.\n",
    "- Fare: passenger fare.\n",
    "- Cabin: cabin number.\n",
    "- Embarked: port of embarkation (C = Cherbourg, Q = Queenstown, S = Southampton)."
   ],
   "metadata": {
    "collapsed": false
   },
   "id": "137bff049a6ed8fa"
  },
  {
   "cell_type": "code",
   "outputs": [
    {
     "name": "stdout",
     "output_type": "stream",
     "text": [
      "Note: you may need to restart the kernel to use updated packages.\n"
     ]
    }
   ],
   "source": [
    "# make sure the required packages are installed\n",
    "%pip install pandas seaborn matplotlib scikit-learn xgboost --quiet\n",
    "# if running in colab, install the required packages and copy the necessary files\n",
    "directory='data-science-course/classification'\n",
    "if get_ipython().__class__.__module__.startswith('google.colab'):\n",
    "    !git clone --depth 1 https://github.com/francisco-ortin/data-science-course.git  2>/dev/null\n",
    "    !cp --update {directory}/*.py .\n",
    "    !mkdir -p img data\n",
    "    !cp {directory}/data/* data/.\n",
    "\n",
    "# import the required modules\n",
    "import xgboost as xgb\n",
    "from sklearn.ensemble import RandomForestClassifier\n",
    "from sklearn.tree import DecisionTreeClassifier\n",
    "from sklearn.metrics import accuracy_score, f1_score\n",
    "from sklearn.utils import resample\n",
    "from time import time\n",
    "import numpy as np\n",
    "\n",
    "import utils\n",
    "\n",
    "random_state = 42"
   ],
   "metadata": {
    "collapsed": false,
    "ExecuteTime": {
     "end_time": "2024-12-17T12:38:05.947769Z",
     "start_time": "2024-12-17T12:38:04.324075Z"
    }
   },
   "id": "abd29d079dd54ab4",
   "execution_count": 10
  },
  {
   "cell_type": "markdown",
   "source": [
    "## Dataset\n",
    "\n",
    "Let's load and clean the dataset."
   ],
   "metadata": {
    "collapsed": false
   },
   "id": "a3fc427e49037f9b"
  },
  {
   "cell_type": "code",
   "outputs": [],
   "source": [
    "dataset_file_name = 'data/titanic.csv'\n",
    "independent_vars = ['Pclass', 'Sex', 'SibSp', 'Parch', 'Fare', 'Embarked']\n",
    "dependent_var = 'Survived'\n",
    "class_names = ['Not Survived', 'Survived']\n",
    "# load anc clean the dataset\n",
    "dataset, independent_vars = utils.load_clean_titanic_dataset(dataset_file_name, independent_vars, dependent_var)\n",
    "# Split the dataset into training and testing sets\n",
    "(X_train, y_train), (X_test, y_test) = utils.split_dataset(dataset, independent_vars, dependent_var,\n",
    "                            0.6, random_state)  # we choose a train size = 0.4 test size of 0.6 on purpose to have higher variance"
   ],
   "metadata": {
    "collapsed": false,
    "ExecuteTime": {
     "end_time": "2024-12-17T12:38:05.984192Z",
     "start_time": "2024-12-17T12:38:05.953748Z"
    }
   },
   "id": "52b274772e8eefe0",
   "execution_count": 11
  },
  {
   "cell_type": "markdown",
   "source": [
    "## Different binary classification models\n",
    "\n",
    "We create different binary classification models with the default hyperparameters. Please, note that we are not tuning the hyperparameters of the models. This is important, because the performance of the models could be improved by tuning the hyperparameters. Particularly, the Random Forest and XGBoost models have many hyperparameters that could be tuned and improved."
   ],
   "metadata": {
    "collapsed": false
   },
   "id": "e2e1b361dc4ea4dd"
  },
  {
   "cell_type": "code",
   "outputs": [
    {
     "name": "stdout",
     "output_type": "stream",
     "text": [
      "----- Single-value evaluation method -----\n",
      "Model: DecisionTreeClassifier.\n",
      "\tAccuracy: 0.7430.\n",
      "\tF1 Score: 0.6515.\n",
      "Model: RandomForestClassifier.\n",
      "\tAccuracy: 0.7561.\n",
      "\tF1 Score: 0.6781.\n",
      "Model: XGBClassifier.\n",
      "\tAccuracy: 0.7672.\n",
      "\tF1 Score: 0.6736.\n",
      "Time elapsed: 0.26 seconds.\n"
     ]
    }
   ],
   "source": [
    "print(f\"{'-'*5} Single-value evaluation method {'-'*5}\")\n",
    "time_before = time()\n",
    "# Let's different DT-based models\n",
    "dt_model = DecisionTreeClassifier(random_state=random_state)\n",
    "dt_model.fit(X_train, y_train)\n",
    "\n",
    "rf_model = RandomForestClassifier(random_state=random_state)\n",
    "rf_model.fit(X_train, y_train)\n",
    "\n",
    "xgb_model = xgb.XGBClassifier(random_state=random_state)\n",
    "xgb_model.fit(X_train, y_train)\n",
    "\n",
    "# Evaluate the models\n",
    "utils.evaluate_models([dt_model, rf_model, xgb_model], X_test, y_test)\n",
    "print(f\"Time elapsed: {time() - time_before:.2f} seconds.\")"
   ],
   "metadata": {
    "collapsed": false,
    "ExecuteTime": {
     "end_time": "2024-12-17T12:38:06.250378Z",
     "start_time": "2024-12-17T12:38:05.986628Z"
    }
   },
   "id": "b767b882934a295b",
   "execution_count": 12
  },
  {
   "cell_type": "markdown",
   "source": [
    "## ✨ Questions ✨\n",
    "\n",
    "1. Do you identify any of the three models as the best one for this dataset?\n",
    "2. Set the random_state to None and run the code many times. Is XGBoost always the best model? What is happening?\n",
    "3. What could we do to improve the comparison?"
   ],
   "metadata": {
    "collapsed": false
   },
   "id": "1e3d3bd899b07df7"
  },
  {
   "cell_type": "markdown",
   "source": [
    "### Answers\n",
    "\n",
    "*Write your answers here.*\n",
    "\n"
   ],
   "metadata": {
    "collapsed": false
   },
   "id": "87156cc804b49eb6"
  },
  {
   "cell_type": "markdown",
   "source": [
    "## Model interpretation\n",
    "\n",
    "In Scikit-learn, `feature_importances_` is an attribute used to understand how important each feature is in making predictions in certain models, particularly decision tree-based algorithms like Random Forests, Gradient Boosting, and Decision Trees themselves. It is an important piece of information to understand the model and the data (data mining).\n",
    "\n",
    "`feature_importances_` is an array of values that indicate the relative importance of each feature used in the model. Each value in this array corresponds to a feature, and the sum of all the values in `feature_importances_` is 1. Higher values mean that the feature is more important for making predictions, and lower values indicate less importance.\n",
    "\n",
    "In decision tree-based models (e.g., `DecisionTreeClassifier`, `RandomForestClassifier`, or `XGBClassifier`), the importance of a feature is calculated based on how much the feature reduces uncertainty or \"impurity\" in the data at a decision node."
   ],
   "metadata": {
    "collapsed": false
   },
   "id": "7aa678b170c713a2"
  },
  {
   "cell_type": "code",
   "outputs": [
    {
     "data": {
      "text/plain": "<Figure size 640x480 with 1 Axes>",
      "image/png": "[encoded data removed]"
     },
     "metadata": {},
     "output_type": "display_data"
    }
   ],
   "source": [
    "feature_importances_DT = dt_model.feature_importances_\n",
    "feature_importances_RF = rf_model.feature_importances_\n",
    "feature_importances_XGB = xgb_model.feature_importances_\n",
    "\n",
    "utils.plot_feature_importances([feature_importances_DT, feature_importances_RF, feature_importances_XGB], ['Decision Tree', 'Random Forest', 'XGBoost'], independent_vars)"
   ],
   "metadata": {
    "collapsed": false,
    "ExecuteTime": {
     "end_time": "2024-12-17T12:38:06.395136Z",
     "start_time": "2024-12-17T12:38:06.251513Z"
    }
   },
   "id": "9ea1837292d05f0c",
   "execution_count": 13
  },
  {
   "cell_type": "markdown",
   "source": [
    "## ✨ Questions ✨\n",
    "\n",
    "4. What are the three most important features?\n",
    "5. Do the three models agree on these three most important features? What are the differences?\n",
    "6. Why do you think these differences exist?"
   ],
   "metadata": {
    "collapsed": false
   },
   "id": "dc410a6ad8cf84d5"
  },
  {
   "cell_type": "markdown",
   "source": [
    "### Answers\n",
    "\n",
    "*Write your answers here.*\n",
    "\n"
   ],
   "metadata": {
    "collapsed": false
   },
   "id": "5d44f90f46cedf2"
  },
  {
   "cell_type": "markdown",
   "source": [
    "## Model comparison\n",
    "\n",
    "### Method 1: Confidence intervals\n",
    "\n",
    "The first method we are using to compare models train and evaluate the models N times and compute the 95% confidence intervals. "
   ],
   "metadata": {
    "collapsed": false
   },
   "id": "eb5dafad8526ac8"
  },
  {
   "cell_type": "code",
   "outputs": [
    {
     "name": "stdout",
     "output_type": "stream",
     "text": [
      "\n",
      "----- Re-train and re-evaluate method -----\n"
     ]
    }
   ],
   "source": [
    "# Evaluate the performance of the models n_times and store the evaluation results in accuracies and f1_scores\n",
    "print(f\"\\n{'-'*5} Re-train and re-evaluate method {'-'*5}\")\n",
    "time_before = time()\n",
    "n_times = 30\n",
    "accuracies = dict()\n",
    "f1_scores = dict()\n",
    "for _ in range(n_times):\n",
    "    (temp_X_train, temp_y_train), (temp_X_test, temp_y_test) = utils.split_dataset(dataset, independent_vars, dependent_var,\n",
    "                                                               0.6, random_state=None)\n",
    "    dt_model = DecisionTreeClassifier(random_state=None)\n",
    "    dt_model.fit(temp_X_train, temp_y_train)\n",
    "    rf_model = RandomForestClassifier(random_state=None)\n",
    "    rf_model.fit(temp_X_train, temp_y_train)\n",
    "    xgb_model = xgb.XGBClassifier(random_state=None)\n",
    "    xgb_model.fit(temp_X_train, temp_y_train)\n",
    "    models = [dt_model, rf_model, xgb_model]\n",
    "    metrics = utils.evaluate_models(models, temp_X_test, temp_y_test, verbose=False)\n",
    "    for model_name, (accuracy, f1_score_value) in zip(models, metrics):\n",
    "        accuracies.setdefault(model_name.__class__.__name__, []).append(accuracy)\n",
    "        f1_scores.setdefault(model_name.__class__.__name__, []).append(f1_score_value)"
   ],
   "metadata": {
    "collapsed": false,
    "ExecuteTime": {
     "end_time": "2024-12-17T12:38:12.916112Z",
     "start_time": "2024-12-17T12:38:06.397296Z"
    }
   },
   "id": "3ef4181303548aa6",
   "execution_count": 14
  },
  {
   "cell_type": "markdown",
   "source": [
    "We now compute and visualize the confidence intervals of each model and metric."
   ],
   "metadata": {
    "collapsed": false
   },
   "id": "316f70b41ff339c2"
  },
  {
   "cell_type": "code",
   "outputs": [
    {
     "name": "stdout",
     "output_type": "stream",
     "text": [
      "Model: DecisionTreeClassifier.\n",
      "\tAccuracy mean: 0.7816. CI: (0.7753191967727777, 0.7879334413401955).\n",
      "\tF1 Score: 0.7033. CI: (0.6943787324490935, 0.7121504826408029).\n",
      "Model: RandomForestClassifier.\n",
      "\tAccuracy mean: 0.7842. CI: (0.7788808466097008, 0.7894617977105973).\n",
      "\tF1 Score: 0.7075. CI: (0.7008022867155511, 0.7142022066924779).\n",
      "Model: XGBClassifier.\n",
      "\tAccuracy mean: 0.7898. CI: (0.7844141313230099, 0.7951016973548298).\n",
      "\tF1 Score: 0.7129. CI: (0.704949314880897, 0.7209044029934109).\n",
      "Time elapsed: 6.52 seconds.\n"
     ]
    }
   ],
   "source": [
    "for model_name in accuracies:\n",
    "    accuracy_mean, accuracy_confidence_interval = utils.confidence_interval(accuracies[model_name], 0.95)\n",
    "    f1_score_mean, f1_score_confidence_interval = utils.confidence_interval(f1_scores[model_name], 0.95)\n",
    "    print(f\"Model: {model_name}.\")\n",
    "    print(f\"\\tAccuracy mean: {accuracy_mean:.4f}. CI: {accuracy_confidence_interval}.\")\n",
    "    print(f\"\\tF1 Score: {f1_score_mean:.4f}. CI: {f1_score_confidence_interval}.\")\n",
    "\n",
    "print(f\"Time elapsed: {time() - time_before:.2f} seconds.\")"
   ],
   "metadata": {
    "collapsed": false,
    "ExecuteTime": {
     "end_time": "2024-12-17T12:38:12.927506Z",
     "start_time": "2024-12-17T12:38:12.917257Z"
    }
   },
   "id": "e1b04729b6fb43fa",
   "execution_count": 15
  },
  {
   "cell_type": "markdown",
   "source": [
    "## ✨ Questions ✨\n",
    "\n",
    "7. Are there differences with the previous values?\n",
    "8. Why?\n",
    "9. What of the two previous comparison methods do you think is better?\n",
    "10. Just comparing the means, is there any modification of the best, average, and worst models?\n",
    "11. Are there significant differences between the models?"
   ],
   "metadata": {
    "collapsed": false
   },
   "id": "8b4c7ae220e5ad64"
  },
  {
   "cell_type": "markdown",
   "source": [
    "### Answers\n",
    "\n",
    "*Write your answers here.*\n",
    "\n"
   ],
   "metadata": {
    "collapsed": false
   },
   "id": "2d7fc7b202ba7f59"
  },
  {
   "cell_type": "markdown",
   "source": [
    "### Method 2: Bootstrap\n",
    "\n",
    "We do not retrain the model. Instead, we use bootstrap on the test set to estimate the confidence intervals.\n",
    "\n",
    "*Notice*. This method is used when retraining the models is so expensive that we cannot afford to retrain them N times. A common example is a deep learning model that takes hours to train. In this case, we use the test set to compute the confidence intervals of the metrics using a method called bootstrapping. "
   ],
   "metadata": {
    "collapsed": false
   },
   "id": "6b9ba27268be4957"
  },
  {
   "cell_type": "code",
   "outputs": [
    {
     "name": "stdout",
     "output_type": "stream",
     "text": [
      "\n",
      "----- Bootstrapping method -----\n",
      "Model: DecisionTreeClassifier.\n",
      "\tAccuracy mean: 0.7419. CI: (0.7039106145251397, 0.7783985102420856).\n",
      "\tF1 Score: 0.6493. CI: (0.5944374447391689, 0.6988069637965063).\n",
      "Model: RandomForestClassifier.\n",
      "\tAccuracy mean: 0.7554. CI: (0.7206703910614525, 0.7895716945996276).\n",
      "\tF1 Score: 0.6762. CI: (0.6240694419818131, 0.7255925453966232).\n",
      "Model: XGBClassifier.\n",
      "\tAccuracy mean: 0.7664. CI: (0.7318435754189944, 0.8007448789571695).\n",
      "\tF1 Score: 0.6718. CI: (0.617396759255739, 0.7212317568169383).\n",
      "Time elapsed: 22.11 seconds.\n"
     ]
    }
   ],
   "source": [
    "print(f\"\\n{'-'*5} Bootstrapping method {'-'*5}\")\n",
    "time_before = time()\n",
    "\n",
    "dt_model = DecisionTreeClassifier(random_state=random_state)\n",
    "dt_model.fit(X_train, y_train)\n",
    "rf_model = RandomForestClassifier(random_state=random_state)\n",
    "rf_model.fit(X_train, y_train)\n",
    "xgb_model = xgb.XGBClassifier(random_state=random_state)\n",
    "xgb_model.fit(X_train, y_train)\n",
    "models = [dt_model, rf_model, xgb_model]\n",
    "\n",
    "# Perform bootstrapping\n",
    "n_bootstrap_samples = 1000\n",
    "bootstrap_accuracies = dict()\n",
    "bootstrap_f1_scores = dict()\n",
    "for _ in range(n_bootstrap_samples):\n",
    "    # Resample with replacement, both X_test and the corresponding y_test at the same time (important)\n",
    "    resampled_X_test, resampled_y_test = resample(X_test, y_test, replace=True)\n",
    "    # Calculate the metrics for each model and store it in the two dictionaries\n",
    "    for model in models:\n",
    "        resampled_y_pred = model.predict(resampled_X_test)\n",
    "        accuracy = accuracy_score(resampled_y_test, resampled_y_pred)\n",
    "        f1_score_value = f1_score(resampled_y_test, resampled_y_pred)\n",
    "        bootstrap_accuracies.setdefault(model.__class__.__name__, []).append(accuracy)\n",
    "        bootstrap_f1_scores.setdefault(model.__class__.__name__, []).append(f1_score_value)\n",
    "\n",
    "# Compute and visualize the confidence intervals of each model and metric\n",
    "for model_name in bootstrap_accuracies:\n",
    "    accuracy_mean = np.mean(bootstrap_accuracies[model_name])\n",
    "    accuracy_confidence_interval = (np.percentile(bootstrap_accuracies[model_name], 2.5), np.percentile(bootstrap_accuracies[model_name], 97.5))\n",
    "    f1_score_mean = np.mean(bootstrap_f1_scores[model_name])\n",
    "    f1_score_confidence_interval = (np.percentile(bootstrap_f1_scores[model_name], 2.5), np.percentile(bootstrap_f1_scores[model_name], 97.5))\n",
    "    print(f\"Model: {model_name}.\")\n",
    "    print(f\"\\tAccuracy mean: {accuracy_mean:.4f}. CI: {accuracy_confidence_interval}.\")\n",
    "    print(f\"\\tF1 Score: {f1_score_mean:.4f}. CI: {f1_score_confidence_interval}.\")\n",
    "\n",
    "print(f\"Time elapsed: {time() - time_before:.2f} seconds.\")"
   ],
   "metadata": {
    "collapsed": false,
    "ExecuteTime": {
     "end_time": "2024-12-17T12:38:35.071440Z",
     "start_time": "2024-12-17T12:38:12.928510Z"
    }
   },
   "id": "daddbc5dc30710e9",
   "execution_count": 16
  },
  {
   "cell_type": "markdown",
   "source": [
    "## ✨ Questions ✨\n",
    "\n",
    "12. Are there differences with the previous values? Why?\n",
    "13. What method takes longer? Why?\n",
    "14. In deep learning scenarios, do you think there will be similar execution-time differences?"
   ],
   "metadata": {
    "collapsed": false
   },
   "id": "f03168a7c462169f"
  },
  {
   "cell_type": "markdown",
   "source": [
    "### Answers\n",
    "\n",
    "*Write your answers here.*\n",
    "\n"
   ],
   "metadata": {
    "collapsed": false
   },
   "id": "b957c4e24f6092ef"
  }
 ],
 "metadata": {
  "kernelspec": {
   "display_name": "Python 3",
   "language": "python",
   "name": "python3"
  },
  "language_info": {
   "codemirror_mode": {
    "name": "ipython",
    "version": 2
   },
   "file_extension": ".py",
   "mimetype": "text/x-python",
   "name": "python",
   "nbconvert_exporter": "python",
   "pygments_lexer": "ipython2",
   "version": "2.7.6"
  }
 },
 "nbformat": 4,
 "nbformat_minor": 5
}
