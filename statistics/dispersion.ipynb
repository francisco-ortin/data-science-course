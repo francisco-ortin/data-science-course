{
 "cells": [
  {
   "cell_type": "markdown",
   "source": [
    "[![Open In Colab](https://colab.research.google.com/assets/colab-badge.svg)](https://colab.research.google.com/github/francisco-ortin/data-science-course/blob/main/statistics/dispersion.ipynb)\n",
    "[![License: CC BY-NC-SA 4.0](https://img.shields.io/badge/License-CC%20BY--NC--SA%204.0-lightgrey.svg)](https://creativecommons.org/licenses/by-nc-sa/4.0/)"
   ],
   "metadata": {
    "collapsed": false
   },
   "id": "de79bcf09c2f9bde"
  },
  {
   "cell_type": "markdown",
   "source": [
    "# Dispersion\n",
    "\n",
    "Dispersion measures how spread out the data are. It is a measure of how much the data in a dataset varies. "
   ],
   "metadata": {
    "collapsed": false
   },
   "id": "ad441c1eca539d06"
  },
  {
   "cell_type": "code",
   "execution_count": 101,
   "id": "initial_id",
   "metadata": {
    "collapsed": true,
    "ExecuteTime": {
     "end_time": "2024-09-23T13:38:34.406926600Z",
     "start_time": "2024-09-23T13:38:28.927609300Z"
    }
   },
   "outputs": [],
   "source": [
    "# make sure the required packages are installed\n",
    "%pip install pandas seaborn matplotlib --quiet\n",
    "# if running in colab, install the required packages and copy the necessary files\n",
    "directory='data-science-course/statistics'\n",
    "if get_ipython().__class__.__module__.startswith('google.colab'):\n",
    "    !git clone --depth 1 https://github.com/francisco-ortin/data-science-course.git  2>/dev/null\n",
    "    !cp --update {directory}/*.py .\n",
    "    !mkdir -p img data\n",
    "    !cp {directory}/img/* img/.\n",
    "    !cp {directory}/data/* data/."
   ]
  },
  {
   "cell_type": "markdown",
   "source": [
    "## Dataset\n",
    "\n",
    "We will use the Titanic dataset, which contains information about the passengers of the Titanic. The dataset is available at the seaborn library."
   ],
   "metadata": {
    "collapsed": false
   },
   "id": "e3a143ced72f6693"
  },
  {
   "cell_type": "code",
   "outputs": [
    {
     "name": "stdout",
     "output_type": "stream",
     "text": [
      "Shape of the dataset: (891, 15).\n"
     ]
    },
    {
     "data": {
      "text/plain": "   survived  pclass     sex   age  sibsp  parch     fare embarked   class  \\\n0         0       3    male  22.0      1      0   7.2500        S   Third   \n1         1       1  female  38.0      1      0  71.2833        C   First   \n2         1       3  female  26.0      0      0   7.9250        S   Third   \n3         1       1  female  35.0      1      0  53.1000        S   First   \n4         0       3    male  35.0      0      0   8.0500        S   Third   \n5         0       3    male   NaN      0      0   8.4583        Q   Third   \n6         0       1    male  54.0      0      0  51.8625        S   First   \n7         0       3    male   2.0      3      1  21.0750        S   Third   \n8         1       3  female  27.0      0      2  11.1333        S   Third   \n9         1       2  female  14.0      1      0  30.0708        C  Second   \n\n     who  adult_male deck  embark_town alive  alone  \n0    man        True  NaN  Southampton    no  False  \n1  woman       False    C    Cherbourg   yes  False  \n2  woman       False  NaN  Southampton   yes   True  \n3  woman       False    C  Southampton   yes  False  \n4    man        True  NaN  Southampton    no   True  \n5    man        True  NaN   Queenstown    no   True  \n6    man        True    E  Southampton    no   True  \n7  child       False  NaN  Southampton    no  False  \n8  woman       False  NaN  Southampton   yes  False  \n9  child       False  NaN    Cherbourg   yes  False  ",
      "text/html": "<div>\n<style scoped>\n    .dataframe tbody tr th:only-of-type {\n        vertical-align: middle;\n    }\n\n    .dataframe tbody tr th {\n        vertical-align: top;\n    }\n\n    .dataframe thead th {\n        text-align: right;\n    }\n</style>\n<table border=\"1\" class=\"dataframe\">\n  <thead>\n    <tr style=\"text-align: right;\">\n      <th></th>\n      <th>survived</th>\n      <th>pclass</th>\n      <th>sex</th>\n      <th>age</th>\n      <th>sibsp</th>\n      <th>parch</th>\n      <th>fare</th>\n      <th>embarked</th>\n      <th>class</th>\n      <th>who</th>\n      <th>adult_male</th>\n      <th>deck</th>\n      <th>embark_town</th>\n      <th>alive</th>\n      <th>alone</th>\n    </tr>\n  </thead>\n  <tbody>\n    <tr>\n      <th>0</th>\n      <td>0</td>\n      <td>3</td>\n      <td>male</td>\n      <td>22.0</td>\n      <td>1</td>\n      <td>0</td>\n      <td>7.2500</td>\n      <td>S</td>\n      <td>Third</td>\n      <td>man</td>\n      <td>True</td>\n      <td>NaN</td>\n      <td>Southampton</td>\n      <td>no</td>\n      <td>False</td>\n    </tr>\n    <tr>\n      <th>1</th>\n      <td>1</td>\n      <td>1</td>\n      <td>female</td>\n      <td>38.0</td>\n      <td>1</td>\n      <td>0</td>\n      <td>71.2833</td>\n      <td>C</td>\n      <td>First</td>\n      <td>woman</td>\n      <td>False</td>\n      <td>C</td>\n      <td>Cherbourg</td>\n      <td>yes</td>\n      <td>False</td>\n    </tr>\n    <tr>\n      <th>2</th>\n      <td>1</td>\n      <td>3</td>\n      <td>female</td>\n      <td>26.0</td>\n      <td>0</td>\n      <td>0</td>\n      <td>7.9250</td>\n      <td>S</td>\n      <td>Third</td>\n      <td>woman</td>\n      <td>False</td>\n      <td>NaN</td>\n      <td>Southampton</td>\n      <td>yes</td>\n      <td>True</td>\n    </tr>\n    <tr>\n      <th>3</th>\n      <td>1</td>\n      <td>1</td>\n      <td>female</td>\n      <td>35.0</td>\n      <td>1</td>\n      <td>0</td>\n      <td>53.1000</td>\n      <td>S</td>\n      <td>First</td>\n      <td>woman</td>\n      <td>False</td>\n      <td>C</td>\n      <td>Southampton</td>\n      <td>yes</td>\n      <td>False</td>\n    </tr>\n    <tr>\n      <th>4</th>\n      <td>0</td>\n      <td>3</td>\n      <td>male</td>\n      <td>35.0</td>\n      <td>0</td>\n      <td>0</td>\n      <td>8.0500</td>\n      <td>S</td>\n      <td>Third</td>\n      <td>man</td>\n      <td>True</td>\n      <td>NaN</td>\n      <td>Southampton</td>\n      <td>no</td>\n      <td>True</td>\n    </tr>\n    <tr>\n      <th>5</th>\n      <td>0</td>\n      <td>3</td>\n      <td>male</td>\n      <td>NaN</td>\n      <td>0</td>\n      <td>0</td>\n      <td>8.4583</td>\n      <td>Q</td>\n      <td>Third</td>\n      <td>man</td>\n      <td>True</td>\n      <td>NaN</td>\n      <td>Queenstown</td>\n      <td>no</td>\n      <td>True</td>\n    </tr>\n    <tr>\n      <th>6</th>\n      <td>0</td>\n      <td>1</td>\n      <td>male</td>\n      <td>54.0</td>\n      <td>0</td>\n      <td>0</td>\n      <td>51.8625</td>\n      <td>S</td>\n      <td>First</td>\n      <td>man</td>\n      <td>True</td>\n      <td>E</td>\n      <td>Southampton</td>\n      <td>no</td>\n      <td>True</td>\n    </tr>\n    <tr>\n      <th>7</th>\n      <td>0</td>\n      <td>3</td>\n      <td>male</td>\n      <td>2.0</td>\n      <td>3</td>\n      <td>1</td>\n      <td>21.0750</td>\n      <td>S</td>\n      <td>Third</td>\n      <td>child</td>\n      <td>False</td>\n      <td>NaN</td>\n      <td>Southampton</td>\n      <td>no</td>\n      <td>False</td>\n    </tr>\n    <tr>\n      <th>8</th>\n      <td>1</td>\n      <td>3</td>\n      <td>female</td>\n      <td>27.0</td>\n      <td>0</td>\n      <td>2</td>\n      <td>11.1333</td>\n      <td>S</td>\n      <td>Third</td>\n      <td>woman</td>\n      <td>False</td>\n      <td>NaN</td>\n      <td>Southampton</td>\n      <td>yes</td>\n      <td>False</td>\n    </tr>\n    <tr>\n      <th>9</th>\n      <td>1</td>\n      <td>2</td>\n      <td>female</td>\n      <td>14.0</td>\n      <td>1</td>\n      <td>0</td>\n      <td>30.0708</td>\n      <td>C</td>\n      <td>Second</td>\n      <td>child</td>\n      <td>False</td>\n      <td>NaN</td>\n      <td>Cherbourg</td>\n      <td>yes</td>\n      <td>False</td>\n    </tr>\n  </tbody>\n</table>\n</div>"
     },
     "execution_count": 102,
     "metadata": {},
     "output_type": "execute_result"
    }
   ],
   "source": [
    "# get the titanic dataset from seaborn\n",
    "import seaborn as sns\n",
    "titanic_df = sns.load_dataset('titanic')\n",
    "print(f\"Shape of the dataset: {titanic_df.shape}.\")\n",
    "titanic_df.head(10)"
   ],
   "metadata": {
    "collapsed": false,
    "ExecuteTime": {
     "end_time": "2024-09-23T13:38:34.501894100Z",
     "start_time": "2024-09-23T13:38:34.413476200Z"
    }
   },
   "id": "8077aad75c2639ed",
   "execution_count": 102
  },
  {
   "cell_type": "markdown",
   "source": [
    "## Frequency distribution\n",
    "\n",
    "For categorical (qualitative) data, dispersion can be measured with frequencies. The frequency distribution is a table that shows the number of instances in a dataset for each category. Pandas provides the `value_counts` method to calculate the frequency distribution. "
   ],
   "metadata": {
    "collapsed": false
   },
   "id": "3a916cc4daef346a"
  },
  {
   "cell_type": "code",
   "outputs": [
    {
     "name": "stdout",
     "output_type": "stream",
     "text": [
      "Values for the class variable: ['Third', 'First', 'Second']\n",
      "Categories (3, object): ['First', 'Second', 'Third'].\n",
      "Frequency distribution for class:\n"
     ]
    },
    {
     "data": {
      "text/plain": "class\nThird     491\nFirst     216\nSecond    184\nName: count, dtype: int64"
     },
     "execution_count": 103,
     "metadata": {},
     "output_type": "execute_result"
    }
   ],
   "source": [
    "# show the frequency distribution of the 'class' column\n",
    "print(f\"Values for the class variable: {titanic_df['class'].unique()}.\")\n",
    "print(\"Frequency distribution for class:\")\n",
    "titanic_df['class'].value_counts()"
   ],
   "metadata": {
    "collapsed": false,
    "ExecuteTime": {
     "end_time": "2024-09-23T13:38:34.546839600Z",
     "start_time": "2024-09-23T13:38:34.486581900Z"
    }
   },
   "id": "44b94cf592a373c1",
   "execution_count": 103
  },
  {
   "cell_type": "markdown",
   "source": [
    "A contingency table is a frequency distribution for two or more variables. It shows the number of instances for each combination of values. Pandas provides the `crosstab` method to calculate the contingency table."
   ],
   "metadata": {
    "collapsed": false
   },
   "id": "c796ee3ce57c47c"
  },
  {
   "cell_type": "code",
   "outputs": [
    {
     "name": "stdout",
     "output_type": "stream",
     "text": [
      "Contingency table for class and embark_town:\n"
     ]
    },
    {
     "data": {
      "text/plain": "embark_town  Cherbourg  Queenstown  Southampton\nclass                                          \nFirst               85           2          127\nSecond              17           3          164\nThird               66          72          353",
      "text/html": "<div>\n<style scoped>\n    .dataframe tbody tr th:only-of-type {\n        vertical-align: middle;\n    }\n\n    .dataframe tbody tr th {\n        vertical-align: top;\n    }\n\n    .dataframe thead th {\n        text-align: right;\n    }\n</style>\n<table border=\"1\" class=\"dataframe\">\n  <thead>\n    <tr style=\"text-align: right;\">\n      <th>embark_town</th>\n      <th>Cherbourg</th>\n      <th>Queenstown</th>\n      <th>Southampton</th>\n    </tr>\n    <tr>\n      <th>class</th>\n      <th></th>\n      <th></th>\n      <th></th>\n    </tr>\n  </thead>\n  <tbody>\n    <tr>\n      <th>First</th>\n      <td>85</td>\n      <td>2</td>\n      <td>127</td>\n    </tr>\n    <tr>\n      <th>Second</th>\n      <td>17</td>\n      <td>3</td>\n      <td>164</td>\n    </tr>\n    <tr>\n      <th>Third</th>\n      <td>66</td>\n      <td>72</td>\n      <td>353</td>\n    </tr>\n  </tbody>\n</table>\n</div>"
     },
     "execution_count": 104,
     "metadata": {},
     "output_type": "execute_result"
    }
   ],
   "source": [
    "import pandas as pd\n",
    "# show the contingency table for the 'class' and 'embark_town' columns\n",
    "print(\"Contingency table for class and embark_town:\")\n",
    "pd.crosstab(titanic_df['class'], titanic_df['embark_town'])"
   ],
   "metadata": {
    "collapsed": false,
    "ExecuteTime": {
     "end_time": "2024-09-23T13:38:34.644004600Z",
     "start_time": "2024-09-23T13:38:34.501894100Z"
    }
   },
   "id": "4beef251663756d1",
   "execution_count": 104
  },
  {
   "cell_type": "markdown",
   "source": [
    "## Range\n",
    "\n",
    "The range is the difference between the maximum and minimum values in a dataset. It is a simple measure of dispersion tha is valid for numerical (quantitative) data. Pandas provides the `max` and `min` methods."
   ],
   "metadata": {
    "collapsed": false
   },
   "id": "ba2fec6a3962b99d"
  },
  {
   "cell_type": "code",
   "outputs": [
    {
     "name": "stdout",
     "output_type": "stream",
     "text": [
      "Fare range: 512.33.\n",
      "Age range: 79.58.\n"
     ]
    }
   ],
   "source": [
    "fare_range = titanic_df['fare'].max() - titanic_df['fare'].min()\n",
    "fare_age = titanic_df['age'].max() - titanic_df['age'].min()\n",
    "print(f\"Fare range: {fare_range:.2f}.\\nAge range: {fare_age:.2f}.\")"
   ],
   "metadata": {
    "collapsed": false,
    "ExecuteTime": {
     "end_time": "2024-09-23T13:38:34.646466200Z",
     "start_time": "2024-09-23T13:38:34.542454300Z"
    }
   },
   "id": "3d22199f86b32927",
   "execution_count": 105
  },
  {
   "cell_type": "markdown",
   "source": [
    "If we want to know the maximum and minimum instance for a given column, we can use the `idxmax` and `idxmin` methods."
   ],
   "metadata": {
    "collapsed": false
   },
   "id": "423c0001a0b041fe"
  },
  {
   "cell_type": "code",
   "outputs": [
    {
     "name": "stdout",
     "output_type": "stream",
     "text": [
      "New fare range with an outlier: 1000000.00 (previously: 512.33).\n"
     ]
    }
   ],
   "source": [
    "# Let's add an outlier for the fare column\n",
    "# we take the index with the greatest fare value\n",
    "greatest_fare_index = titanic_df['fare'].idxmax()\n",
    "# we set the fare value to 1M\n",
    "previous_highest_fare = titanic_df.loc[greatest_fare_index, 'fare']\n",
    "titanic_df.loc[greatest_fare_index, 'fare'] = 1_000_000  # outlier\n",
    "\n",
    "print(f\"New fare range with an outlier: {titanic_df['fare'].max() - titanic_df['fare'].min():.2f}\"\n",
    "            f\" (previously: {fare_range:.2f}).\")"
   ],
   "metadata": {
    "collapsed": false,
    "ExecuteTime": {
     "end_time": "2024-09-23T13:38:34.647800800Z",
     "start_time": "2024-09-23T13:38:34.553697400Z"
    }
   },
   "id": "e0d5df13eafa1d2a",
   "execution_count": 106
  },
  {
   "cell_type": "markdown",
   "source": [
    "## Percentiles\n",
    "\n",
    "A percentile is the value below which a given percentage of observations fall. Pandas provides the `quantile` method to calculate the percentiles. "
   ],
   "metadata": {
    "collapsed": false
   },
   "id": "5ba5d132165a94"
  },
  {
   "cell_type": "code",
   "outputs": [
    {
     "name": "stdout",
     "output_type": "stream",
     "text": [
      "90th percentile for the 'fare' variable: 77.9583.\n",
      "10th percentile for the 'fare' variable: 7.55.\n"
     ]
    }
   ],
   "source": [
    "# calculate the 90th percentile for the 'fare' column\n",
    "print(f\"90th percentile for the 'fare' variable: {titanic_df['fare'].quantile(0.9)}.\")\n",
    "print(f\"10th percentile for the 'fare' variable: {titanic_df['fare'].quantile(0.1)}.\")"
   ],
   "metadata": {
    "collapsed": false,
    "ExecuteTime": {
     "end_time": "2024-09-23T13:38:34.912499600Z",
     "start_time": "2024-09-23T13:38:34.566337900Z"
    }
   },
   "id": "b561f85bae511d7b",
   "execution_count": 107
  },
  {
   "cell_type": "markdown",
   "source": [
    "## Quartiles\n",
    "\n",
    "Quartiles are percentiles that divide the data into four equal parts. The first quartile (Q1) is the 25th percentile, the second quartile (Q2) is the 50th percentile (median), and the third quartile (Q3) is the 75th percentile. "
   ],
   "metadata": {
    "collapsed": false
   },
   "id": "526c9a307b07605e"
  },
  {
   "cell_type": "code",
   "outputs": [
    {
     "name": "stdout",
     "output_type": "stream",
     "text": [
      "Five-number summary for the 'age' variable, grouping by 'sex'.\n",
      "Male:\n",
      "\tMinimum: 0.42.\n",
      "\t1st quartile (Q1): 21.0.\n",
      "\tMedian (Q2): 29.0.\n",
      "\t3rd quartile (Q3): 39.0.\n",
      "\tMaximum: 80.0.\n",
      "Female:\n",
      "\tMinimum: 0.75.\n",
      "\t1st quartile (Q1): 18.0.\n",
      "\tMedian (Q2): 27.0.\n",
      "\t3rd quartile (Q3): 37.0.\n",
      "\tMaximum: 63.0.\n"
     ]
    },
    {
     "data": {
      "text/plain": "(0.75, 18.0, 27.0, 37.0, 63.0)"
     },
     "execution_count": 108,
     "metadata": {},
     "output_type": "execute_result"
    }
   ],
   "source": [
    "import utils    \n",
    "grouped_by_sex_df = titanic_df.groupby('sex')\n",
    "print(\"Five-number summary for the 'age' variable, grouping by 'sex'.\\nMale:\")\n",
    "utils.five_number_summary(grouped_by_sex_df.get_group('male')['age'], show=True)\n",
    "print(\"Female:\")\n",
    "utils.five_number_summary(grouped_by_sex_df.get_group('female')['age'], show=True)"
   ],
   "metadata": {
    "collapsed": false,
    "ExecuteTime": {
     "end_time": "2024-09-23T13:38:34.914121700Z",
     "start_time": "2024-09-23T13:38:34.577793300Z"
    }
   },
   "id": "c30fbeb6bb82b57d",
   "execution_count": 108
  },
  {
   "cell_type": "markdown",
   "source": [
    "## Box plots\n",
    "\n",
    "Box plots are a graphical representation of the five-number summary. They are useful to identify outliers and compare the distribution of different groups. Seaborn provides the `boxplot` function."
   ],
   "metadata": {
    "collapsed": false
   },
   "id": "e1fecbcaa50e3493"
  },
  {
   "cell_type": "code",
   "outputs": [
    {
     "data": {
      "text/plain": "<Figure size 1000x600 with 1 Axes>",
      "image/png": "[encoded data removed]"
     },
     "metadata": {},
     "output_type": "display_data"
    }
   ],
   "source": [
    "# show the box plot for the 'age' column, grouping by sex.\n",
    "import matplotlib.pyplot as plt\n",
    "plt.figure(figsize=(10, 6))\n",
    "sns.boxplot(data=titanic_df, x='sex', y='age')  # switch x and y to show it horizontally\n",
    "plt.title('Distribution of the age variable by sex')\n",
    "plt.show()"
   ],
   "metadata": {
    "collapsed": false,
    "ExecuteTime": {
     "end_time": "2024-09-23T13:38:35.069008100Z",
     "start_time": "2024-09-23T13:38:34.607635900Z"
    }
   },
   "id": "a3f19b8c276dabe4",
   "execution_count": 109
  },
  {
   "cell_type": "markdown",
   "source": [
    "## Interquartile range\n",
    "\n",
    "The interquartile range (IQR) is the difference between the third and first quartiles (Q3 - Q1). It is a measure of dispersion that is robust to outliers. \n",
    "\n",
    "IQR is also used to identify outliers with the Tukey's fences rule. The variable must be numerical, symmetrically distributed, and unimodal (i.e., one single peek value). The outliers are the values that are below Q1 - 1.5 * IQR or above Q3 + 1.5 * IQR.  "
   ],
   "metadata": {
    "collapsed": false
   },
   "id": "1d389331d797a7a2"
  },
  {
   "cell_type": "code",
   "outputs": [
    {
     "data": {
      "text/plain": "<Figure size 1000x600 with 1 Axes>",
      "image/png": "[encoded data removed]"
     },
     "metadata": {},
     "output_type": "display_data"
    }
   ],
   "source": [
    "# Let's see if the age variable is symmetrically distributed\n",
    "# show histogram of the age variable\n",
    "plt.figure(figsize=(10, 6))\n",
    "sns.histplot(x=titanic_df['age'].values, bins=30)\n",
    "plt.title('Histogram of the fare variable')\n",
    "plt.show()"
   ],
   "metadata": {
    "collapsed": false,
    "ExecuteTime": {
     "end_time": "2024-09-23T13:38:35.434187800Z",
     "start_time": "2024-09-23T13:38:34.783773100Z"
    }
   },
   "id": "293f7d7e7c455ae9",
   "execution_count": 110
  },
  {
   "cell_type": "code",
   "outputs": [
    {
     "name": "stdout",
     "output_type": "stream",
     "text": [
      "Number of outliers for the 'age' variable: 11 out of 891.\n",
      "Outliers:\n",
      "33     66.0\n",
      "54     65.0\n",
      "96     71.0\n",
      "116    70.5\n",
      "280    65.0\n",
      "456    65.0\n",
      "493    71.0\n",
      "630    80.0\n",
      "672    70.0\n",
      "745    70.0\n",
      "851    74.0\n",
      "Name: age, dtype: float64.\n"
     ]
    }
   ],
   "source": [
    "# compute the outliers for the 'age' variable\n",
    "def compute_ouliers(column: pd.Series) -> pd.Series:\n",
    "    q1 = column.quantile(0.25)\n",
    "    q3 = column.quantile(0.75)\n",
    "    iqr = q3 - q1\n",
    "    lower_bound = q1 - 1.5 * iqr\n",
    "    upper_bound = q3 + 1.5 * iqr\n",
    "    return column[(column < lower_bound) | (column > upper_bound)]\n",
    "\n",
    "age_outliers = compute_ouliers(titanic_df['age'])\n",
    "print(f\"Number of outliers for the 'age' variable: {age_outliers.shape[0]} \"\n",
    "      f\"out of {titanic_df.shape[0]}.\")\n",
    "print(f\"Outliers:\\n{age_outliers}.\")"
   ],
   "metadata": {
    "collapsed": false,
    "ExecuteTime": {
     "end_time": "2024-09-23T13:38:35.436072200Z",
     "start_time": "2024-09-23T13:38:35.037569700Z"
    }
   },
   "id": "412c3c7214107444",
   "execution_count": 111
  },
  {
   "cell_type": "markdown",
   "source": [
    "## Variance and standard deviation\n",
    "\n",
    "Variance and standard deviation are dispersion measures for numerical (quantitative) data. Variance is the average of the squared differences between each value and the mean. The standard deviation is the square root of the variance."
   ],
   "metadata": {
    "collapsed": false
   },
   "id": "ddf78730ce3991e9"
  },
  {
   "cell_type": "code",
   "outputs": [
    {
     "name": "stdout",
     "output_type": "stream",
     "text": [
      "Variance for the 'age' variable: 211.28 (std: 14.54).\n",
      "Variance for the 'fare' variable: 2212.62 (std: 47.04).\n",
      "Which variable has more dispersion?\n"
     ]
    }
   ],
   "source": [
    "# calculate the variance and standard deviation for the 'age' and 'fare' variables\n",
    "# we do not consider the outlier we added artificially\n",
    "original_df = titanic_df[titanic_df['fare'] != 1_000_000]\n",
    "age_variance, fare_variance = original_df['age'].var(), original_df['fare'].var()\n",
    "age_std, fare_std = original_df['age'].std(), original_df['fare'].std()\n",
    "print(f\"Variance for the 'age' variable: {age_variance:.2f} (std: {age_std:.2f}).\")\n",
    "print(f\"Variance for the 'fare' variable: {fare_variance:.2f} (std: {fare_std:.2f}).\")\n",
    "print(\"Which variable has more dispersion?\")"
   ],
   "metadata": {
    "collapsed": false,
    "ExecuteTime": {
     "end_time": "2024-09-23T13:38:35.463277700Z",
     "start_time": "2024-09-23T13:38:35.058797100Z"
    }
   },
   "id": "9103b4e51abed3fa",
   "execution_count": 112
  },
  {
   "cell_type": "markdown",
   "source": [
    "## Coefficient of variation\n",
    "\n",
    "The coefficient of variation is the ratio of the standard deviation to the mean. It is a relative measure of dispersion that allows comparing the variability of different variables. Since we are dividing the variables, they must be on a ratio scale."
   ],
   "metadata": {
    "collapsed": false
   },
   "id": "a746b1650c960575"
  },
  {
   "cell_type": "code",
   "outputs": [
    {
     "name": "stdout",
     "output_type": "stream",
     "text": [
      "Coefficient of variation for the 'age' variable: 0.4895 (48.95%).\n",
      "Coefficient of variation for the 'fare' variable: 1.4855 (148.55%).\n",
      "The variable 'fare' has more dispersion.\n"
     ]
    }
   ],
   "source": [
    "# calculate the coefficient of variation for the 'age' and 'fare' variables\n",
    "age_cv, fare_cv = age_std / original_df['age'].mean(), fare_std / original_df['fare'].mean()\n",
    "print(f\"Coefficient of variation for the 'age' variable: {age_cv:.4f} ({age_cv*100:.2f}%).\")\n",
    "print(f\"Coefficient of variation for the 'fare' variable: {fare_cv:.4f} ({fare_cv*100:.2f}%).\")\n",
    "print(f\"The variable '{['age', 'fare'][int(age_cv < fare_cv)]}' has more dispersion.\")"
   ],
   "metadata": {
    "collapsed": false,
    "ExecuteTime": {
     "end_time": "2024-09-23T13:38:35.464633300Z",
     "start_time": "2024-09-23T13:38:35.072698Z"
    }
   },
   "id": "df734a53b54b3025",
   "execution_count": 113
  }
 ],
 "metadata": {
  "kernelspec": {
   "display_name": "Python 3",
   "language": "python",
   "name": "python3"
  },
  "language_info": {
   "codemirror_mode": {
    "name": "ipython",
    "version": 2
   },
   "file_extension": ".py",
   "mimetype": "text/x-python",
   "name": "python",
   "nbconvert_exporter": "python",
   "pygments_lexer": "ipython2",
   "version": "2.7.6"
  }
 },
 "nbformat": 4,
 "nbformat_minor": 5
}
